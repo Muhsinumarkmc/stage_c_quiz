{
  "nbformat": 4,
  "nbformat_minor": 0,
  "metadata": {
    "colab": {
      "provenance": []
    },
    "kernelspec": {
      "name": "python3",
      "display_name": "Python 3"
    },
    "language_info": {
      "name": "python"
    }
  },
  "cells": [
    {
      "cell_type": "code",
      "execution_count": null,
      "metadata": {
        "colab": {
          "base_uri": "https://localhost:8080/"
        },
        "id": "5OaezrofoHIc",
        "outputId": "8d44d0f8-671b-40b0-ad4c-28ad6551dbb5"
      },
      "outputs": [
        {
          "output_type": "stream",
          "name": "stdout",
          "text": [
            "Drive already mounted at /content/drive; to attempt to forcibly remount, call drive.mount(\"/content/drive\", force_remount=True).\n"
          ]
        }
      ],
      "source": [
        "from google.colab import drive\n",
        "drive.mount('/content/drive')"
      ]
    },
    {
      "cell_type": "code",
      "source": [
        "%cd /content/drive/My Drive/"
      ],
      "metadata": {
        "colab": {
          "base_uri": "https://localhost:8080/"
        },
        "id": "pHTlRq8irKsu",
        "outputId": "01822e40-b872-4e91-9d42-6c40d61df7e1"
      },
      "execution_count": null,
      "outputs": [
        {
          "output_type": "stream",
          "name": "stdout",
          "text": [
            "/content/drive/My Drive\n"
          ]
        }
      ]
    },
    {
      "cell_type": "code",
      "source": [
        "df = pd.read_csv(\"df.csv\")"
      ],
      "metadata": {
        "id": "dZUAKSsdsC3H"
      },
      "execution_count": null,
      "outputs": []
    },
    {
      "cell_type": "code",
      "source": [
        "df"
      ],
      "metadata": {
        "colab": {
          "base_uri": "https://localhost:8080/",
          "height": 424
        },
        "id": "SoU1inV7sJjV",
        "outputId": "ed8f3fc1-4979-45cc-8432-bde8c5ca1cae"
      },
      "execution_count": null,
      "outputs": [
        {
          "output_type": "execute_result",
          "data": {
            "text/plain": [
              "          tau1      tau2      tau3      tau4        p1        p2        p3  \\\n",
              "0     2.959060  3.079885  8.381025  9.780754  3.763085 -0.782604 -1.257395   \n",
              "1     9.304097  4.902524  3.047541  1.369357  5.067812 -1.940058 -1.872742   \n",
              "2     8.971707  8.848428  3.046479  1.214518  3.405158 -1.207456 -1.277210   \n",
              "3     0.716415  7.669600  4.486641  2.340563  3.963791 -1.027473 -1.938944   \n",
              "4     3.134112  7.608772  4.943759  9.857573  3.525811 -1.125531 -1.845975   \n",
              "...        ...       ...       ...       ...       ...       ...       ...   \n",
              "9995  2.930406  9.487627  2.376523  6.187797  3.343416 -0.658054 -1.449106   \n",
              "9996  3.392299  1.274827  2.954947  6.894759  4.349512 -1.663661 -0.952437   \n",
              "9997  2.364034  2.842030  8.776391  1.008906  4.299976 -1.380719 -0.943884   \n",
              "9998  9.631511  3.994398  2.757071  7.821347  2.514755 -0.966330 -0.649915   \n",
              "9999  6.530527  6.781790  4.349695  8.673138  3.492807 -1.390285 -1.532193   \n",
              "\n",
              "            p4        g1        g2        g3        g4      stab     stabf  \n",
              "0    -1.723086  0.650456  0.859578  0.887445  0.958034  0.055347  unstable  \n",
              "1    -1.255012  0.413441  0.862414  0.562139  0.781760 -0.005957    stable  \n",
              "2    -0.920492  0.163041  0.766689  0.839444  0.109853  0.003471  unstable  \n",
              "3    -0.997374  0.446209  0.976744  0.929381  0.362718  0.028871  unstable  \n",
              "4    -0.554305  0.797110  0.455450  0.656947  0.820923  0.049860  unstable  \n",
              "...        ...       ...       ...       ...       ...       ...       ...  \n",
              "9995 -1.236256  0.601709  0.779642  0.813512  0.608385  0.023892  unstable  \n",
              "9996 -1.733414  0.502079  0.567242  0.285880  0.366120 -0.025803    stable  \n",
              "9997 -1.975373  0.487838  0.986505  0.149286  0.145984 -0.031810    stable  \n",
              "9998 -0.898510  0.365246  0.587558  0.889118  0.818391  0.037789  unstable  \n",
              "9999 -0.570329  0.073056  0.505441  0.378761  0.942631  0.045263  unstable  \n",
              "\n",
              "[10000 rows x 14 columns]"
            ],
            "text/html": [
              "\n",
              "  <div id=\"df-30116c51-1584-4332-9f81-251e7b3a0328\">\n",
              "    <div class=\"colab-df-container\">\n",
              "      <div>\n",
              "<style scoped>\n",
              "    .dataframe tbody tr th:only-of-type {\n",
              "        vertical-align: middle;\n",
              "    }\n",
              "\n",
              "    .dataframe tbody tr th {\n",
              "        vertical-align: top;\n",
              "    }\n",
              "\n",
              "    .dataframe thead th {\n",
              "        text-align: right;\n",
              "    }\n",
              "</style>\n",
              "<table border=\"1\" class=\"dataframe\">\n",
              "  <thead>\n",
              "    <tr style=\"text-align: right;\">\n",
              "      <th></th>\n",
              "      <th>tau1</th>\n",
              "      <th>tau2</th>\n",
              "      <th>tau3</th>\n",
              "      <th>tau4</th>\n",
              "      <th>p1</th>\n",
              "      <th>p2</th>\n",
              "      <th>p3</th>\n",
              "      <th>p4</th>\n",
              "      <th>g1</th>\n",
              "      <th>g2</th>\n",
              "      <th>g3</th>\n",
              "      <th>g4</th>\n",
              "      <th>stab</th>\n",
              "      <th>stabf</th>\n",
              "    </tr>\n",
              "  </thead>\n",
              "  <tbody>\n",
              "    <tr>\n",
              "      <th>0</th>\n",
              "      <td>2.959060</td>\n",
              "      <td>3.079885</td>\n",
              "      <td>8.381025</td>\n",
              "      <td>9.780754</td>\n",
              "      <td>3.763085</td>\n",
              "      <td>-0.782604</td>\n",
              "      <td>-1.257395</td>\n",
              "      <td>-1.723086</td>\n",
              "      <td>0.650456</td>\n",
              "      <td>0.859578</td>\n",
              "      <td>0.887445</td>\n",
              "      <td>0.958034</td>\n",
              "      <td>0.055347</td>\n",
              "      <td>unstable</td>\n",
              "    </tr>\n",
              "    <tr>\n",
              "      <th>1</th>\n",
              "      <td>9.304097</td>\n",
              "      <td>4.902524</td>\n",
              "      <td>3.047541</td>\n",
              "      <td>1.369357</td>\n",
              "      <td>5.067812</td>\n",
              "      <td>-1.940058</td>\n",
              "      <td>-1.872742</td>\n",
              "      <td>-1.255012</td>\n",
              "      <td>0.413441</td>\n",
              "      <td>0.862414</td>\n",
              "      <td>0.562139</td>\n",
              "      <td>0.781760</td>\n",
              "      <td>-0.005957</td>\n",
              "      <td>stable</td>\n",
              "    </tr>\n",
              "    <tr>\n",
              "      <th>2</th>\n",
              "      <td>8.971707</td>\n",
              "      <td>8.848428</td>\n",
              "      <td>3.046479</td>\n",
              "      <td>1.214518</td>\n",
              "      <td>3.405158</td>\n",
              "      <td>-1.207456</td>\n",
              "      <td>-1.277210</td>\n",
              "      <td>-0.920492</td>\n",
              "      <td>0.163041</td>\n",
              "      <td>0.766689</td>\n",
              "      <td>0.839444</td>\n",
              "      <td>0.109853</td>\n",
              "      <td>0.003471</td>\n",
              "      <td>unstable</td>\n",
              "    </tr>\n",
              "    <tr>\n",
              "      <th>3</th>\n",
              "      <td>0.716415</td>\n",
              "      <td>7.669600</td>\n",
              "      <td>4.486641</td>\n",
              "      <td>2.340563</td>\n",
              "      <td>3.963791</td>\n",
              "      <td>-1.027473</td>\n",
              "      <td>-1.938944</td>\n",
              "      <td>-0.997374</td>\n",
              "      <td>0.446209</td>\n",
              "      <td>0.976744</td>\n",
              "      <td>0.929381</td>\n",
              "      <td>0.362718</td>\n",
              "      <td>0.028871</td>\n",
              "      <td>unstable</td>\n",
              "    </tr>\n",
              "    <tr>\n",
              "      <th>4</th>\n",
              "      <td>3.134112</td>\n",
              "      <td>7.608772</td>\n",
              "      <td>4.943759</td>\n",
              "      <td>9.857573</td>\n",
              "      <td>3.525811</td>\n",
              "      <td>-1.125531</td>\n",
              "      <td>-1.845975</td>\n",
              "      <td>-0.554305</td>\n",
              "      <td>0.797110</td>\n",
              "      <td>0.455450</td>\n",
              "      <td>0.656947</td>\n",
              "      <td>0.820923</td>\n",
              "      <td>0.049860</td>\n",
              "      <td>unstable</td>\n",
              "    </tr>\n",
              "    <tr>\n",
              "      <th>...</th>\n",
              "      <td>...</td>\n",
              "      <td>...</td>\n",
              "      <td>...</td>\n",
              "      <td>...</td>\n",
              "      <td>...</td>\n",
              "      <td>...</td>\n",
              "      <td>...</td>\n",
              "      <td>...</td>\n",
              "      <td>...</td>\n",
              "      <td>...</td>\n",
              "      <td>...</td>\n",
              "      <td>...</td>\n",
              "      <td>...</td>\n",
              "      <td>...</td>\n",
              "    </tr>\n",
              "    <tr>\n",
              "      <th>9995</th>\n",
              "      <td>2.930406</td>\n",
              "      <td>9.487627</td>\n",
              "      <td>2.376523</td>\n",
              "      <td>6.187797</td>\n",
              "      <td>3.343416</td>\n",
              "      <td>-0.658054</td>\n",
              "      <td>-1.449106</td>\n",
              "      <td>-1.236256</td>\n",
              "      <td>0.601709</td>\n",
              "      <td>0.779642</td>\n",
              "      <td>0.813512</td>\n",
              "      <td>0.608385</td>\n",
              "      <td>0.023892</td>\n",
              "      <td>unstable</td>\n",
              "    </tr>\n",
              "    <tr>\n",
              "      <th>9996</th>\n",
              "      <td>3.392299</td>\n",
              "      <td>1.274827</td>\n",
              "      <td>2.954947</td>\n",
              "      <td>6.894759</td>\n",
              "      <td>4.349512</td>\n",
              "      <td>-1.663661</td>\n",
              "      <td>-0.952437</td>\n",
              "      <td>-1.733414</td>\n",
              "      <td>0.502079</td>\n",
              "      <td>0.567242</td>\n",
              "      <td>0.285880</td>\n",
              "      <td>0.366120</td>\n",
              "      <td>-0.025803</td>\n",
              "      <td>stable</td>\n",
              "    </tr>\n",
              "    <tr>\n",
              "      <th>9997</th>\n",
              "      <td>2.364034</td>\n",
              "      <td>2.842030</td>\n",
              "      <td>8.776391</td>\n",
              "      <td>1.008906</td>\n",
              "      <td>4.299976</td>\n",
              "      <td>-1.380719</td>\n",
              "      <td>-0.943884</td>\n",
              "      <td>-1.975373</td>\n",
              "      <td>0.487838</td>\n",
              "      <td>0.986505</td>\n",
              "      <td>0.149286</td>\n",
              "      <td>0.145984</td>\n",
              "      <td>-0.031810</td>\n",
              "      <td>stable</td>\n",
              "    </tr>\n",
              "    <tr>\n",
              "      <th>9998</th>\n",
              "      <td>9.631511</td>\n",
              "      <td>3.994398</td>\n",
              "      <td>2.757071</td>\n",
              "      <td>7.821347</td>\n",
              "      <td>2.514755</td>\n",
              "      <td>-0.966330</td>\n",
              "      <td>-0.649915</td>\n",
              "      <td>-0.898510</td>\n",
              "      <td>0.365246</td>\n",
              "      <td>0.587558</td>\n",
              "      <td>0.889118</td>\n",
              "      <td>0.818391</td>\n",
              "      <td>0.037789</td>\n",
              "      <td>unstable</td>\n",
              "    </tr>\n",
              "    <tr>\n",
              "      <th>9999</th>\n",
              "      <td>6.530527</td>\n",
              "      <td>6.781790</td>\n",
              "      <td>4.349695</td>\n",
              "      <td>8.673138</td>\n",
              "      <td>3.492807</td>\n",
              "      <td>-1.390285</td>\n",
              "      <td>-1.532193</td>\n",
              "      <td>-0.570329</td>\n",
              "      <td>0.073056</td>\n",
              "      <td>0.505441</td>\n",
              "      <td>0.378761</td>\n",
              "      <td>0.942631</td>\n",
              "      <td>0.045263</td>\n",
              "      <td>unstable</td>\n",
              "    </tr>\n",
              "  </tbody>\n",
              "</table>\n",
              "<p>10000 rows × 14 columns</p>\n",
              "</div>\n",
              "      <button class=\"colab-df-convert\" onclick=\"convertToInteractive('df-30116c51-1584-4332-9f81-251e7b3a0328')\"\n",
              "              title=\"Convert this dataframe to an interactive table.\"\n",
              "              style=\"display:none;\">\n",
              "        \n",
              "  <svg xmlns=\"http://www.w3.org/2000/svg\" height=\"24px\"viewBox=\"0 0 24 24\"\n",
              "       width=\"24px\">\n",
              "    <path d=\"M0 0h24v24H0V0z\" fill=\"none\"/>\n",
              "    <path d=\"M18.56 5.44l.94 2.06.94-2.06 2.06-.94-2.06-.94-.94-2.06-.94 2.06-2.06.94zm-11 1L8.5 8.5l.94-2.06 2.06-.94-2.06-.94L8.5 2.5l-.94 2.06-2.06.94zm10 10l.94 2.06.94-2.06 2.06-.94-2.06-.94-.94-2.06-.94 2.06-2.06.94z\"/><path d=\"M17.41 7.96l-1.37-1.37c-.4-.4-.92-.59-1.43-.59-.52 0-1.04.2-1.43.59L10.3 9.45l-7.72 7.72c-.78.78-.78 2.05 0 2.83L4 21.41c.39.39.9.59 1.41.59.51 0 1.02-.2 1.41-.59l7.78-7.78 2.81-2.81c.8-.78.8-2.07 0-2.86zM5.41 20L4 18.59l7.72-7.72 1.47 1.35L5.41 20z\"/>\n",
              "  </svg>\n",
              "      </button>\n",
              "      \n",
              "  <style>\n",
              "    .colab-df-container {\n",
              "      display:flex;\n",
              "      flex-wrap:wrap;\n",
              "      gap: 12px;\n",
              "    }\n",
              "\n",
              "    .colab-df-convert {\n",
              "      background-color: #E8F0FE;\n",
              "      border: none;\n",
              "      border-radius: 50%;\n",
              "      cursor: pointer;\n",
              "      display: none;\n",
              "      fill: #1967D2;\n",
              "      height: 32px;\n",
              "      padding: 0 0 0 0;\n",
              "      width: 32px;\n",
              "    }\n",
              "\n",
              "    .colab-df-convert:hover {\n",
              "      background-color: #E2EBFA;\n",
              "      box-shadow: 0px 1px 2px rgba(60, 64, 67, 0.3), 0px 1px 3px 1px rgba(60, 64, 67, 0.15);\n",
              "      fill: #174EA6;\n",
              "    }\n",
              "\n",
              "    [theme=dark] .colab-df-convert {\n",
              "      background-color: #3B4455;\n",
              "      fill: #D2E3FC;\n",
              "    }\n",
              "\n",
              "    [theme=dark] .colab-df-convert:hover {\n",
              "      background-color: #434B5C;\n",
              "      box-shadow: 0px 1px 3px 1px rgba(0, 0, 0, 0.15);\n",
              "      filter: drop-shadow(0px 1px 2px rgba(0, 0, 0, 0.3));\n",
              "      fill: #FFFFFF;\n",
              "    }\n",
              "  </style>\n",
              "\n",
              "      <script>\n",
              "        const buttonEl =\n",
              "          document.querySelector('#df-30116c51-1584-4332-9f81-251e7b3a0328 button.colab-df-convert');\n",
              "        buttonEl.style.display =\n",
              "          google.colab.kernel.accessAllowed ? 'block' : 'none';\n",
              "\n",
              "        async function convertToInteractive(key) {\n",
              "          const element = document.querySelector('#df-30116c51-1584-4332-9f81-251e7b3a0328');\n",
              "          const dataTable =\n",
              "            await google.colab.kernel.invokeFunction('convertToInteractive',\n",
              "                                                     [key], {});\n",
              "          if (!dataTable) return;\n",
              "\n",
              "          const docLinkHtml = 'Like what you see? Visit the ' +\n",
              "            '<a target=\"_blank\" href=https://colab.research.google.com/notebooks/data_table.ipynb>data table notebook</a>'\n",
              "            + ' to learn more about interactive tables.';\n",
              "          element.innerHTML = '';\n",
              "          dataTable['output_type'] = 'display_data';\n",
              "          await google.colab.output.renderOutput(dataTable, element);\n",
              "          const docLink = document.createElement('div');\n",
              "          docLink.innerHTML = docLinkHtml;\n",
              "          element.appendChild(docLink);\n",
              "        }\n",
              "      </script>\n",
              "    </div>\n",
              "  </div>\n",
              "  "
            ]
          },
          "metadata": {},
          "execution_count": 45
        }
      ]
    },
    {
      "cell_type": "code",
      "source": [
        "df.drop(columns= {'stab'}, inplace=True)"
      ],
      "metadata": {
        "id": "tgq14qTHsSiT"
      },
      "execution_count": null,
      "outputs": []
    },
    {
      "cell_type": "code",
      "source": [
        "df['stabf'] = df['stabf'].replace({'stable': 0, 'unstable':1})\n",
        "df['stabf'].astype(int)"
      ],
      "metadata": {
        "colab": {
          "base_uri": "https://localhost:8080/"
        },
        "id": "l7YYFpylsYGd",
        "outputId": "4331e13f-ce28-4b92-addf-84eec81dd8cd"
      },
      "execution_count": null,
      "outputs": [
        {
          "output_type": "execute_result",
          "data": {
            "text/plain": [
              "0       1\n",
              "1       0\n",
              "2       1\n",
              "3       1\n",
              "4       1\n",
              "       ..\n",
              "9995    1\n",
              "9996    0\n",
              "9997    0\n",
              "9998    1\n",
              "9999    1\n",
              "Name: stabf, Length: 10000, dtype: int64"
            ]
          },
          "metadata": {},
          "execution_count": 47
        }
      ]
    },
    {
      "cell_type": "code",
      "source": [
        "from sklearn.preprocessing import StandardScaler\n",
        "from sklearn.model_selection import train_test_split\n",
        "x = df.drop(columns='stabf')\n",
        "y = df['stabf']\n",
        "x_train, x_test, y_train, y_test = train_test_split(x, y, test_size=0.2, random_state=1)\n",
        "scaler = StandardScaler()\n",
        "\n",
        "scaler.fit(x_train)\n",
        "\n",
        "x_train_scaled = scaler.transform(x_train)\n",
        "x_test_scaled = scaler.transform(x_test)\n"
      ],
      "metadata": {
        "id": "L2carz0KstI0"
      },
      "execution_count": null,
      "outputs": []
    },
    {
      "cell_type": "code",
      "source": [
        "from sklearn.ensemble import RandomForestClassifier, ExtraTreesClassifier\n",
        "\n",
        "\n",
        "rf_model = RandomForestClassifier()\n",
        "rf_model.fit(x_train_scaled, y_train)\n",
        "\n",
        "\n",
        "et_model = ExtraTreesClassifier()\n",
        "et_model.fit(x_train_scaled, y_train)\n",
        "\n",
        "# Predict labels for the test set using Random Forest Classifier\n",
        "rf_predictions = rf_model.predict(x_test_scaled)\n",
        "\n",
        "# Predict labels for the test set using Extra Trees Classifier\n",
        "et_predictions = et_model.predict(x_test_scaled)\n"
      ],
      "metadata": {
        "id": "4lzl4_xks51G"
      },
      "execution_count": null,
      "outputs": []
    },
    {
      "cell_type": "code",
      "source": [
        "from sklearn.metrics import confusion_matrix, f1_score, accuracy_score\n",
        "\n",
        "y_test = y_test.astype(int)\n",
        "rf_predictions = rf_predictions.astype(int)\n",
        "et_predictions = et_predictions.astype(int)\n",
        "\n",
        "# Calculate and print the confusion matrix for Random Forest Classifier\n",
        "rf_cm = confusion_matrix(y_test, rf_predictions)\n",
        "print(\"Confusion Matrix - Random Forest Classifier:\")\n",
        "print(rf_cm)\n",
        "\n",
        "# Calculate and print the confusion matrix for Extra Trees Classifier\n",
        "et_cm = confusion_matrix(y_test, et_predictions)\n",
        "print(\"Confusion Matrix - Extra Trees Classifier:\")\n",
        "print(et_cm)\n",
        "\n",
        "# Calculate and print the F1 score for Random Forest Classifier\n",
        "rf_f1 = f1_score(y_test, rf_predictions)\n",
        "print(\"F1 Score - Random Forest Classifier:\", rf_f1)\n",
        "\n",
        "# Calculate and print the F1 score for Extra Trees Classifier\n",
        "et_f1 = f1_score(y_test, et_predictions)\n",
        "print(\"F1 Score - Extra Trees Classifier:\", et_f1)\n",
        "\n",
        "# Calculate and print the accuracy score for Random Forest Classifier\n",
        "rf_accuracy = accuracy_score(y_test, rf_predictions)\n",
        "print(\"Accuracy Score - Random Forest Classifier:\", rf_accuracy)\n",
        "\n",
        "# Calculate and print the accuracy score for Extra Trees Classifier\n",
        "et_accuracy = accuracy_score(y_test, et_predictions)\n",
        "print(\"Accuracy Score - Extra Trees Classifier:\", et_accuracy)\n"
      ],
      "metadata": {
        "colab": {
          "base_uri": "https://localhost:8080/"
        },
        "id": "TT-NMFv0s8Uh",
        "outputId": "7f8c7a49-9663-43b7-f239-82a86d28ba4c"
      },
      "execution_count": null,
      "outputs": [
        {
          "output_type": "stream",
          "name": "stdout",
          "text": [
            "Confusion Matrix - Random Forest Classifier:\n",
            "[[ 623   89]\n",
            " [  64 1224]]\n",
            "Confusion Matrix - Extra Trees Classifier:\n",
            "[[ 591  121]\n",
            " [  35 1253]]\n",
            "F1 Score - Random Forest Classifier: 0.9411764705882353\n",
            "F1 Score - Extra Trees Classifier: 0.9413974455296771\n",
            "Accuracy Score - Random Forest Classifier: 0.9235\n",
            "Accuracy Score - Extra Trees Classifier: 0.922\n"
          ]
        }
      ]
    },
    {
      "cell_type": "code",
      "source": [
        "\n",
        "\n",
        "import xgboost as xgb\n",
        "import lightgbm as lgb\n",
        "\n",
        "# Create an instance of XGBoost model\n",
        "xgb_model = xgb.XGBClassifier()\n",
        "\n",
        "# Fit the model on the training data\n",
        "xgb_model.fit(x_train_scaled, y_train)\n",
        "\n",
        "# Create an instance of LightGBM model\n",
        "lgb_model = lgb.LGBMClassifier()\n",
        "\n",
        "# Fit the model on the training data\n",
        "lgb_model.fit(x_train_scaled, y_train)\n"
      ],
      "metadata": {
        "colab": {
          "base_uri": "https://localhost:8080/",
          "height": 75
        },
        "id": "wyp2onnAtAHr",
        "outputId": "108add69-b78d-41cf-83f7-d335dfdaa769"
      },
      "execution_count": null,
      "outputs": [
        {
          "output_type": "execute_result",
          "data": {
            "text/plain": [
              "LGBMClassifier()"
            ],
            "text/html": [
              "<style>#sk-container-id-4 {color: black;background-color: white;}#sk-container-id-4 pre{padding: 0;}#sk-container-id-4 div.sk-toggleable {background-color: white;}#sk-container-id-4 label.sk-toggleable__label {cursor: pointer;display: block;width: 100%;margin-bottom: 0;padding: 0.3em;box-sizing: border-box;text-align: center;}#sk-container-id-4 label.sk-toggleable__label-arrow:before {content: \"▸\";float: left;margin-right: 0.25em;color: #696969;}#sk-container-id-4 label.sk-toggleable__label-arrow:hover:before {color: black;}#sk-container-id-4 div.sk-estimator:hover label.sk-toggleable__label-arrow:before {color: black;}#sk-container-id-4 div.sk-toggleable__content {max-height: 0;max-width: 0;overflow: hidden;text-align: left;background-color: #f0f8ff;}#sk-container-id-4 div.sk-toggleable__content pre {margin: 0.2em;color: black;border-radius: 0.25em;background-color: #f0f8ff;}#sk-container-id-4 input.sk-toggleable__control:checked~div.sk-toggleable__content {max-height: 200px;max-width: 100%;overflow: auto;}#sk-container-id-4 input.sk-toggleable__control:checked~label.sk-toggleable__label-arrow:before {content: \"▾\";}#sk-container-id-4 div.sk-estimator input.sk-toggleable__control:checked~label.sk-toggleable__label {background-color: #d4ebff;}#sk-container-id-4 div.sk-label input.sk-toggleable__control:checked~label.sk-toggleable__label {background-color: #d4ebff;}#sk-container-id-4 input.sk-hidden--visually {border: 0;clip: rect(1px 1px 1px 1px);clip: rect(1px, 1px, 1px, 1px);height: 1px;margin: -1px;overflow: hidden;padding: 0;position: absolute;width: 1px;}#sk-container-id-4 div.sk-estimator {font-family: monospace;background-color: #f0f8ff;border: 1px dotted black;border-radius: 0.25em;box-sizing: border-box;margin-bottom: 0.5em;}#sk-container-id-4 div.sk-estimator:hover {background-color: #d4ebff;}#sk-container-id-4 div.sk-parallel-item::after {content: \"\";width: 100%;border-bottom: 1px solid gray;flex-grow: 1;}#sk-container-id-4 div.sk-label:hover label.sk-toggleable__label {background-color: #d4ebff;}#sk-container-id-4 div.sk-serial::before {content: \"\";position: absolute;border-left: 1px solid gray;box-sizing: border-box;top: 0;bottom: 0;left: 50%;z-index: 0;}#sk-container-id-4 div.sk-serial {display: flex;flex-direction: column;align-items: center;background-color: white;padding-right: 0.2em;padding-left: 0.2em;position: relative;}#sk-container-id-4 div.sk-item {position: relative;z-index: 1;}#sk-container-id-4 div.sk-parallel {display: flex;align-items: stretch;justify-content: center;background-color: white;position: relative;}#sk-container-id-4 div.sk-item::before, #sk-container-id-4 div.sk-parallel-item::before {content: \"\";position: absolute;border-left: 1px solid gray;box-sizing: border-box;top: 0;bottom: 0;left: 50%;z-index: -1;}#sk-container-id-4 div.sk-parallel-item {display: flex;flex-direction: column;z-index: 1;position: relative;background-color: white;}#sk-container-id-4 div.sk-parallel-item:first-child::after {align-self: flex-end;width: 50%;}#sk-container-id-4 div.sk-parallel-item:last-child::after {align-self: flex-start;width: 50%;}#sk-container-id-4 div.sk-parallel-item:only-child::after {width: 0;}#sk-container-id-4 div.sk-dashed-wrapped {border: 1px dashed gray;margin: 0 0.4em 0.5em 0.4em;box-sizing: border-box;padding-bottom: 0.4em;background-color: white;}#sk-container-id-4 div.sk-label label {font-family: monospace;font-weight: bold;display: inline-block;line-height: 1.2em;}#sk-container-id-4 div.sk-label-container {text-align: center;}#sk-container-id-4 div.sk-container {/* jupyter's `normalize.less` sets `[hidden] { display: none; }` but bootstrap.min.css set `[hidden] { display: none !important; }` so we also need the `!important` here to be able to override the default hidden behavior on the sphinx rendered scikit-learn.org. See: https://github.com/scikit-learn/scikit-learn/issues/21755 */display: inline-block !important;position: relative;}#sk-container-id-4 div.sk-text-repr-fallback {display: none;}</style><div id=\"sk-container-id-4\" class=\"sk-top-container\"><div class=\"sk-text-repr-fallback\"><pre>LGBMClassifier()</pre><b>In a Jupyter environment, please rerun this cell to show the HTML representation or trust the notebook. <br />On GitHub, the HTML representation is unable to render, please try loading this page with nbviewer.org.</b></div><div class=\"sk-container\" hidden><div class=\"sk-item\"><div class=\"sk-estimator sk-toggleable\"><input class=\"sk-toggleable__control sk-hidden--visually\" id=\"sk-estimator-id-4\" type=\"checkbox\" checked><label for=\"sk-estimator-id-4\" class=\"sk-toggleable__label sk-toggleable__label-arrow\">LGBMClassifier</label><div class=\"sk-toggleable__content\"><pre>LGBMClassifier()</pre></div></div></div></div></div>"
            ]
          },
          "metadata": {},
          "execution_count": 51
        }
      ]
    },
    {
      "cell_type": "code",
      "source": [
        "\n",
        "# Convert the predicted labels to the same type as the true labels\n",
        "xgb_predictions  = xgb_model.predict(x_test_scaled)\n",
        "xgb_predictions = xgb_predictions.astype(int)\n",
        "\n",
        "# Calculate and print the confusion matrix for XGBoost Classifier\n",
        "xgb_cm = confusion_matrix(y_test, xgb_predictions)\n",
        "print(\"Confusion Matrix - XGBoost Classifier:\")\n",
        "print(xgb_cm)\n",
        "\n",
        "# Calculate and print the F1 score for XGBoost Classifier\n",
        "xgb_f1 = f1_score(y_test, xgb_predictions)\n",
        "print(\"F1 Score - XGBoost Classifier:\", xgb_f1)\n",
        "\n",
        "# Calculate and print the accuracy score for XGBoost Classifier\n",
        "xgb_accuracy = accuracy_score(y_test, xgb_predictions)\n",
        "print(\"Accuracy Score - XGBoost Classifier:\", xgb_accuracy)\n"
      ],
      "metadata": {
        "colab": {
          "base_uri": "https://localhost:8080/"
        },
        "id": "thqMeWKGtEY0",
        "outputId": "76e5c9d1-6094-409b-ed26-814e5da6553d"
      },
      "execution_count": null,
      "outputs": [
        {
          "output_type": "stream",
          "name": "stdout",
          "text": [
            "Confusion Matrix - XGBoost Classifier:\n",
            "[[ 648   64]\n",
            " [  45 1243]]\n",
            "F1 Score - XGBoost Classifier: 0.9579961464354528\n",
            "Accuracy Score - XGBoost Classifier: 0.9455\n"
          ]
        }
      ]
    },
    {
      "cell_type": "code",
      "source": [
        "import lightgbm as lgb\n",
        "\n",
        "# Convert the predicted labels to the same type as the true labels\n",
        "lgb_predictions = lgb_model.predict(x_test_scaled)\n",
        "lgb_predictions = lgb_predictions.astype(int)\n",
        "\n",
        "# Calculate and print the confusion matrix for LightGBM Classifier\n",
        "lgb_cm = confusion_matrix(y_test, lgb_predictions)\n",
        "print(\"Confusion Matrix - LightGBM Classifier:\")\n",
        "print(lgb_cm)\n",
        "\n",
        "# Calculate and print the F1 score for LightGBM Classifier\n",
        "lgb_f1 = f1_score(y_test, lgb_predictions)\n",
        "print(\"F1 Score - LightGBM Classifier:\", lgb_f1)\n",
        "\n",
        "# Calculate and print the accuracy score for LightGBM Classifier\n",
        "lgb_accuracy = accuracy_score(y_test, lgb_predictions)\n",
        "print(\"Accuracy Score - LightGBM Classifier:\", lgb_accuracy)\n"
      ],
      "metadata": {
        "colab": {
          "base_uri": "https://localhost:8080/"
        },
        "id": "_NqjEH6wttjD",
        "outputId": "3ca9059e-0a13-4d40-8e43-9783d4a9b308"
      },
      "execution_count": null,
      "outputs": [
        {
          "output_type": "stream",
          "name": "stdout",
          "text": [
            "Confusion Matrix - LightGBM Classifier:\n",
            "[[ 641   71]\n",
            " [  50 1238]]\n",
            "F1 Score - LightGBM Classifier: 0.9534077782056218\n",
            "Accuracy Score - LightGBM Classifier: 0.9395\n"
          ]
        }
      ]
    },
    {
      "cell_type": "code",
      "source": [
        "\n",
        "from sklearn.metrics import precision_score, recall_score, roc_curve, roc_auc_score\n",
        "\n",
        "# Convert the predicted labels to the same type as the true labels\n",
        "xgb_predictions = xgb_predictions.astype(int)\n",
        "\n",
        "# Calculate precision for XGBoost Classifier\n",
        "xgb_precision = precision_score(y_test, xgb_predictions)\n",
        "print(\"Precision - XGBoost Classifier:\", xgb_precision)\n",
        "\n",
        "# Calculate recall for XGBoost Classifier\n",
        "xgb_recall = recall_score(y_test, xgb_predictions)\n",
        "print(\"Recall - XGBoost Classifier:\", xgb_recall)\n",
        "\n",
        "# Calculate ROC curve and AUC for XGBoost Classifier\n",
        "xgb_probabilities = xgb_model.predict_proba(x_test_scaled)[:, 1]\n",
        "xgb_auc = roc_auc_score(y_test, xgb_probabilities)\n",
        "print(\"AUC - XGBoost Classifier:\", xgb_auc)\n"
      ],
      "metadata": {
        "colab": {
          "base_uri": "https://localhost:8080/"
        },
        "id": "-fbivpmDurdK",
        "outputId": "3888be13-cf71-4c61-92e2-0b8ba4dc97e2"
      },
      "execution_count": null,
      "outputs": [
        {
          "output_type": "stream",
          "name": "stdout",
          "text": [
            "Precision - XGBoost Classifier: 0.9510328997704667\n",
            "Recall - XGBoost Classifier: 0.9650621118012422\n",
            "AUC - XGBoost Classifier: 0.990647245097355\n"
          ]
        }
      ]
    },
    {
      "cell_type": "code",
      "source": [
        "import lightgbm as lgb\n",
        "from sklearn.metrics import precision_score, recall_score, roc_curve, roc_auc_score\n",
        "\n",
        "# Convert the predicted labels to the same type as the true labels\n",
        "lgb_predictions = lgb_predictions.astype(int)\n",
        "\n",
        "# Calculate precision for LightGBM Classifier\n",
        "lgb_precision = precision_score(y_test, lgb_predictions)\n",
        "print(\"Precision - LightGBM Classifier:\", lgb_precision)\n",
        "\n",
        "# Calculate recall for LightGBM Classifier\n",
        "lgb_recall = recall_score(y_test, lgb_predictions)\n",
        "print(\"Recall - LightGBM Classifier:\", lgb_recall)\n",
        "\n",
        "# Calculate ROC curve and AUC for LightGBM Classifier\n",
        "lgb_probabilities = lgb_model.predict_proba(x_test_scaled)[:, 1]\n",
        "lgb_auc = roc_auc_score(y_test, lgb_probabilities)\n",
        "print(\"AUC - LightGBM Classifier:\", lgb_auc)\n"
      ],
      "metadata": {
        "colab": {
          "base_uri": "https://localhost:8080/"
        },
        "id": "o3rMAd9GwkME",
        "outputId": "b5fb1c39-2320-4954-cee8-88d437c6f66c"
      },
      "execution_count": null,
      "outputs": [
        {
          "output_type": "stream",
          "name": "stdout",
          "text": [
            "Precision - LightGBM Classifier: 0.9457601222307105\n",
            "Recall - LightGBM Classifier: 0.9611801242236024\n",
            "AUC - LightGBM Classifier: 0.9877346639681764\n"
          ]
        }
      ]
    },
    {
      "cell_type": "code",
      "source": [],
      "metadata": {
        "id": "0LeWiCIqwreQ"
      },
      "execution_count": null,
      "outputs": []
    }
  ]
}